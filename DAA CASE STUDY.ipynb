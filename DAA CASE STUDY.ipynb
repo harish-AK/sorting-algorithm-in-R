{
 "cells": [
  {
   "cell_type": "code",
   "execution_count": 14,
   "id": "c5ff2d8b",
   "metadata": {},
   "outputs": [
    {
     "data": {
      "text/html": [
       "<style>\n",
       ".list-inline {list-style: none; margin:0; padding: 0}\n",
       ".list-inline>li {display: inline-block}\n",
       ".list-inline>li:not(:last-child)::after {content: \"\\00b7\"; padding: 0 .5ex}\n",
       "</style>\n",
       "<ol class=list-inline><li>11</li><li>15</li><li>36</li><li>40</li><li>58</li><li>63</li><li>70</li><li>73</li><li>88</li><li>93</li></ol>\n"
      ],
      "text/latex": [
       "\\begin{enumerate*}\n",
       "\\item 11\n",
       "\\item 15\n",
       "\\item 36\n",
       "\\item 40\n",
       "\\item 58\n",
       "\\item 63\n",
       "\\item 70\n",
       "\\item 73\n",
       "\\item 88\n",
       "\\item 93\n",
       "\\end{enumerate*}\n"
      ],
      "text/markdown": [
       "1. 11\n",
       "2. 15\n",
       "3. 36\n",
       "4. 40\n",
       "5. 58\n",
       "6. 63\n",
       "7. 70\n",
       "8. 73\n",
       "9. 88\n",
       "10. 93\n",
       "\n",
       "\n"
      ],
      "text/plain": [
       " [1] 11 15 36 40 58 63 70 73 88 93"
      ]
     },
     "metadata": {},
     "output_type": "display_data"
    },
    {
     "data": {
      "text/html": [
       "'execution time for bubble sort is : 0.0179510116577148'"
      ],
      "text/latex": [
       "'execution time for bubble sort is : 0.0179510116577148'"
      ],
      "text/markdown": [
       "'execution time for bubble sort is : 0.0179510116577148'"
      ],
      "text/plain": [
       "[1] \"execution time for bubble sort is : 0.0179510116577148\""
      ]
     },
     "metadata": {},
     "output_type": "display_data"
    }
   ],
   "source": [
    "start=Sys.time()\n",
    "\n",
    "# BUBBLE SORT\n",
    "\n",
    "# function to sort the array using bubble sort\n",
    "bubble_sort <- function(x)\n",
    "{\n",
    "    # calculate the length of array\n",
    "    n <- length(x)\n",
    "             # run loop n-1 times\n",
    "        for (i in 1 : (n - 1)) {\n",
    "              # run loop (n-i) times\n",
    "            for (j in 1 : (n - i)) {\n",
    "                  # compare elements\n",
    "                if (x[j] > x[j + 1]) {\n",
    "                    temp <- x[j]\n",
    "                      x[j] <- x[j + 1]\n",
    "                      x[j + 1] <- temp\n",
    "                }\n",
    "            }\n",
    "        }\n",
    "      x\n",
    "}\n",
    " \n",
    "# take 10 random numbers between 1 - 100\n",
    "arr <- sample(1 : 100, 10)\n",
    " \n",
    "# sort the array and store the result\n",
    "# in sorted_array\n",
    "sorted_array <- bubble_sort(arr)\n",
    " \n",
    "# print sorted_array\n",
    "sorted_array\n",
    "\n",
    "end=Sys.time()\n",
    "time=end-start\n",
    "paste(\"execution time for bubble sort is :\",time)"
   ]
  },
  {
   "cell_type": "code",
   "execution_count": 15,
   "id": "111a032b",
   "metadata": {},
   "outputs": [
    {
     "data": {
      "text/html": [
       "<style>\n",
       ".list-inline {list-style: none; margin:0; padding: 0}\n",
       ".list-inline>li {display: inline-block}\n",
       ".list-inline>li:not(:last-child)::after {content: \"\\00b7\"; padding: 0 .5ex}\n",
       "</style>\n",
       "<ol class=list-inline><li>4</li><li>36</li><li>37</li><li>48</li><li>49</li><li>53</li><li>74</li><li>79</li><li>80</li><li>99</li></ol>\n"
      ],
      "text/latex": [
       "\\begin{enumerate*}\n",
       "\\item 4\n",
       "\\item 36\n",
       "\\item 37\n",
       "\\item 48\n",
       "\\item 49\n",
       "\\item 53\n",
       "\\item 74\n",
       "\\item 79\n",
       "\\item 80\n",
       "\\item 99\n",
       "\\end{enumerate*}\n"
      ],
      "text/markdown": [
       "1. 4\n",
       "2. 36\n",
       "3. 37\n",
       "4. 48\n",
       "5. 49\n",
       "6. 53\n",
       "7. 74\n",
       "8. 79\n",
       "9. 80\n",
       "10. 99\n",
       "\n",
       "\n"
      ],
      "text/plain": [
       " [1]  4 36 37 48 49 53 74 79 80 99"
      ]
     },
     "metadata": {},
     "output_type": "display_data"
    },
    {
     "data": {
      "text/html": [
       "'execution time for insertion sort is : 0.0109689235687256'"
      ],
      "text/latex": [
       "'execution time for insertion sort is : 0.0109689235687256'"
      ],
      "text/markdown": [
       "'execution time for insertion sort is : 0.0109689235687256'"
      ],
      "text/plain": [
       "[1] \"execution time for insertion sort is : 0.0109689235687256\""
      ]
     },
     "metadata": {},
     "output_type": "display_data"
    }
   ],
   "source": [
    "# INSERTION SORT\n",
    "# insertion sort function to sort array\n",
    "start=Sys.time()\n",
    "\n",
    "insertion_sort <- function(x)\n",
    "{\n",
    "      # calculate the length of array\n",
    "    n <- length(x)\n",
    "      # outer loop\n",
    "    for (i in 2 : (n))\n",
    "    {\n",
    "          # store first element as key\n",
    "        key = x[i]\n",
    "        j   = i - 1\n",
    "          # compare key with elements for\n",
    "          # its correct position\n",
    "        while (j > 0 && x[j] > key)\n",
    "        {\n",
    "          x[j + 1] = x[j]\n",
    "          j = j - 1\n",
    "        }\n",
    "      # Place key at its correct position\n",
    "      x[j + 1] = key\n",
    "    }\n",
    "      # return sorted array\n",
    "    x\n",
    "}\n",
    " \n",
    "# take sample array\n",
    "arr <- sample(1 : 100, 10)\n",
    " \n",
    "# call insertion sort function\n",
    "sorted_arr <- insertion_sort(arr)\n",
    " \n",
    "# print sorted array\n",
    "sorted_arr\n",
    "\n",
    "end=Sys.time()\n",
    "time=end-start\n",
    "paste(\"execution time for insertion sort is :\",time)"
   ]
  },
  {
   "cell_type": "code",
   "execution_count": 16,
   "id": "cc946c47",
   "metadata": {},
   "outputs": [
    {
     "data": {
      "text/html": [
       "<style>\n",
       ".list-inline {list-style: none; margin:0; padding: 0}\n",
       ".list-inline>li {display: inline-block}\n",
       ".list-inline>li:not(:last-child)::after {content: \"\\00b7\"; padding: 0 .5ex}\n",
       "</style>\n",
       "<ol class=list-inline><li>5</li><li>18</li><li>25</li><li>26</li><li>27</li><li>28</li><li>31</li><li>35</li><li>47</li><li>48</li></ol>\n"
      ],
      "text/latex": [
       "\\begin{enumerate*}\n",
       "\\item 5\n",
       "\\item 18\n",
       "\\item 25\n",
       "\\item 26\n",
       "\\item 27\n",
       "\\item 28\n",
       "\\item 31\n",
       "\\item 35\n",
       "\\item 47\n",
       "\\item 48\n",
       "\\end{enumerate*}\n"
      ],
      "text/markdown": [
       "1. 5\n",
       "2. 18\n",
       "3. 25\n",
       "4. 26\n",
       "5. 27\n",
       "6. 28\n",
       "7. 31\n",
       "8. 35\n",
       "9. 47\n",
       "10. 48\n",
       "\n",
       "\n"
      ],
      "text/plain": [
       " [1]  5 18 25 26 27 28 31 35 47 48"
      ]
     },
     "metadata": {},
     "output_type": "display_data"
    },
    {
     "data": {
      "text/html": [
       "'execution time for selection sort is : 0.0119619369506836'"
      ],
      "text/latex": [
       "'execution time for selection sort is : 0.0119619369506836'"
      ],
      "text/markdown": [
       "'execution time for selection sort is : 0.0119619369506836'"
      ],
      "text/plain": [
       "[1] \"execution time for selection sort is : 0.0119619369506836\""
      ]
     },
     "metadata": {},
     "output_type": "display_data"
    }
   ],
   "source": [
    "# SELECTION SORT\n",
    "\n",
    "# function to sort array using selection sort\n",
    "\n",
    "start=Sys.time()\n",
    "\n",
    "selection_sort <- function(x)\n",
    "{\n",
    "      # length of array\n",
    "    n <- length(x)\n",
    "      for (i in 1 : (n - 1))\n",
    "    {\n",
    "          # assume element at i is minimum\n",
    "        min_index <- i\n",
    "          for (j in (i + 1) : (n))\n",
    "        {\n",
    "              # check if element at j is smaller\n",
    "              # than element at min_index\n",
    "            if (x[j] < x[min_index]) {\n",
    "                  # if yes, update min_index\n",
    "                min_index = j\n",
    "            }\n",
    "        }\n",
    "          # swap element at i with element at min_index\n",
    "        temp <- x[i]\n",
    "          x[i] <- x[min_index]\n",
    "          x[min_index] <- temp\n",
    "    }\n",
    "    x\n",
    "}\n",
    " \n",
    "# take sample input\n",
    "arr <- sample(1 : 100, 10)\n",
    " \n",
    "# sort array\n",
    "sorted_arr <- selection_sort(arr)\n",
    " \n",
    "# print array\n",
    "sorted_arr\n",
    "\n",
    "end=Sys.time()\n",
    "time=end-start\n",
    "paste(\"execution time for selection sort is :\",time)"
   ]
  },
  {
   "cell_type": "code",
   "execution_count": 17,
   "id": "ff46c00d",
   "metadata": {},
   "outputs": [
    {
     "data": {
      "text/html": [
       "<style>\n",
       ".list-inline {list-style: none; margin:0; padding: 0}\n",
       ".list-inline>li {display: inline-block}\n",
       ".list-inline>li:not(:last-child)::after {content: \"\\00b7\"; padding: 0 .5ex}\n",
       "</style>\n",
       "<ol class=list-inline><li>31</li><li>34</li><li>40</li><li>56</li><li>57</li><li>62</li><li>70</li><li>77</li><li>84</li><li>88</li></ol>\n"
      ],
      "text/latex": [
       "\\begin{enumerate*}\n",
       "\\item 31\n",
       "\\item 34\n",
       "\\item 40\n",
       "\\item 56\n",
       "\\item 57\n",
       "\\item 62\n",
       "\\item 70\n",
       "\\item 77\n",
       "\\item 84\n",
       "\\item 88\n",
       "\\end{enumerate*}\n"
      ],
      "text/markdown": [
       "1. 31\n",
       "2. 34\n",
       "3. 40\n",
       "4. 56\n",
       "5. 57\n",
       "6. 62\n",
       "7. 70\n",
       "8. 77\n",
       "9. 84\n",
       "10. 88\n",
       "\n",
       "\n"
      ],
      "text/plain": [
       " [1] 31 34 40 56 57 62 70 77 84 88"
      ]
     },
     "metadata": {},
     "output_type": "display_data"
    },
    {
     "data": {
      "text/html": [
       "'execution time for merge sort is : 0.0209379196166992'"
      ],
      "text/latex": [
       "'execution time for merge sort is : 0.0209379196166992'"
      ],
      "text/markdown": [
       "'execution time for merge sort is : 0.0209379196166992'"
      ],
      "text/plain": [
       "[1] \"execution time for merge sort is : 0.0209379196166992\""
      ]
     },
     "metadata": {},
     "output_type": "display_data"
    }
   ],
   "source": [
    "# MERGE SORT\n",
    "\n",
    "# function to merge two sorted arrays\n",
    "\n",
    "start=Sys.time()\n",
    "merge <- function(a, b) {\n",
    "      # create temporary array\n",
    "    temp <- numeric(length(a) + length(b))\n",
    "   \n",
    "      # take two variables which initially points to\n",
    "      # starting of the sorted sub arrays\n",
    "      # and j which points to starting of starting\n",
    "      # of temporary array\n",
    "    astart <- 1\n",
    "      bstart <- 1\n",
    "      j <- 1\n",
    "    for(j in 1 : length(temp)) {\n",
    "         # if a[astart] < b[bstart]\n",
    "        if((astart <= length(a) &&\n",
    "            a[astart] < b[bstart]) ||\n",
    "            bstart > length(b)) {\n",
    "              # insert a[astart] in temp and increment\n",
    "              # astart pointer to next\n",
    "            temp[j] <- a[astart]\n",
    "            astart <- astart + 1\n",
    "        }\n",
    "      else {\n",
    "            temp[j] <- b[bstart]\n",
    "            bstart <- bstart + 1         \n",
    "        }\n",
    "    }\n",
    "    temp\n",
    "}\n",
    " \n",
    "# function to sort the array\n",
    "mergeSort <- function(arr) {\n",
    "   \n",
    "      # if length of array is greater than 1,\n",
    "      # then perform sorting\n",
    "    if(length(arr) > 1) {\n",
    "       \n",
    "          # find mid point through which\n",
    "          # array need to be divided\n",
    "        mid <- ceiling(length(arr)/2)\n",
    "       \n",
    "          # first part of array will be from 1 to mid\n",
    "        a <- mergeSort(arr[1:mid])\n",
    "       \n",
    "         # second part of array will be\n",
    "          # from (mid+1) to length(arr)\n",
    "        b <- mergeSort(arr[(mid+1):length(arr)])\n",
    "       \n",
    "          # merge above sorted arrays\n",
    "        merge(a, b)\n",
    "    }\n",
    "  # else just return arr with single element\n",
    "  else {\n",
    "        arr\n",
    "    }\n",
    "}\n",
    " \n",
    "# take sample input\n",
    "arr <- sample(1:100, 10)\n",
    " \n",
    "# call mergeSort function\n",
    "result <- mergeSort(arr)\n",
    " \n",
    "# print result\n",
    "result\n",
    "end=Sys.time()\n",
    "time=end -start\n",
    "paste(\"execution time for merge sort is :\",time)"
   ]
  },
  {
   "cell_type": "code",
   "execution_count": 18,
   "id": "0207ef7a",
   "metadata": {},
   "outputs": [
    {
     "data": {
      "text/html": [
       "<style>\n",
       ".list-inline {list-style: none; margin:0; padding: 0}\n",
       ".list-inline>li {display: inline-block}\n",
       ".list-inline>li:not(:last-child)::after {content: \"\\00b7\"; padding: 0 .5ex}\n",
       "</style>\n",
       "<ol class=list-inline><li>31</li><li>46</li><li>53</li><li>57</li><li>68</li><li>72</li><li>74</li><li>77</li><li>80</li><li>87</li></ol>\n"
      ],
      "text/latex": [
       "\\begin{enumerate*}\n",
       "\\item 31\n",
       "\\item 46\n",
       "\\item 53\n",
       "\\item 57\n",
       "\\item 68\n",
       "\\item 72\n",
       "\\item 74\n",
       "\\item 77\n",
       "\\item 80\n",
       "\\item 87\n",
       "\\end{enumerate*}\n"
      ],
      "text/markdown": [
       "1. 31\n",
       "2. 46\n",
       "3. 53\n",
       "4. 57\n",
       "5. 68\n",
       "6. 72\n",
       "7. 74\n",
       "8. 77\n",
       "9. 80\n",
       "10. 87\n",
       "\n",
       "\n"
      ],
      "text/plain": [
       " [1] 31 46 53 57 68 72 74 77 80 87"
      ]
     },
     "metadata": {},
     "output_type": "display_data"
    },
    {
     "data": {
      "text/html": [
       "'execution time for quick sort is : 0.0130341053009033'"
      ],
      "text/latex": [
       "'execution time for quick sort is : 0.0130341053009033'"
      ],
      "text/markdown": [
       "'execution time for quick sort is : 0.0130341053009033'"
      ],
      "text/plain": [
       "[1] \"execution time for quick sort is : 0.0130341053009033\""
      ]
     },
     "metadata": {},
     "output_type": "display_data"
    }
   ],
   "source": [
    "# QUICK SORT\n",
    "start=Sys.time()\n",
    "# function to sort the values\n",
    "quickSort <- function(arr) {\n",
    "   \n",
    "  # Pick a number at random\n",
    "  random_index <- sample(seq_along(arr), 1);\n",
    "  pivot <- arr[random_index]\n",
    "  arr <- arr[-random_index]\n",
    "   \n",
    "  # Create array for left and right values.\n",
    "  left <- c()\n",
    "  right <- c()\n",
    "   \n",
    "  # Move all smaller and equal values to the\n",
    "  # left and bigger values to the right.\n",
    "  # compare element with pivot\n",
    "  left<-arr[which(arr <= pivot)]\n",
    "  right<-arr[which(arr > pivot)]\n",
    "   \n",
    "  if (length(left) > 1)\n",
    "  {\n",
    "    left <- quickSort(left)\n",
    "  }\n",
    "  if (length(right) > 1)\n",
    "  {\n",
    "    right <- quickSort(right)\n",
    "  }\n",
    "   \n",
    "  # Return the sorted values.\n",
    "  return(c(left, pivot, right))\n",
    "}\n",
    " \n",
    "# take sample array\n",
    "arr <- sample(1:100, 10)\n",
    " \n",
    "# call quickSort function\n",
    "result <- quickSort(arr)\n",
    " \n",
    "# print result\n",
    "result\n",
    "end=Sys.time()\n",
    "time=end-start\n",
    "paste(\"execution time for quick sort is :\",time)"
   ]
  },
  {
   "cell_type": "code",
   "execution_count": null,
   "id": "bd62af14",
   "metadata": {},
   "outputs": [],
   "source": []
  }
 ],
 "metadata": {
  "kernelspec": {
   "display_name": "R",
   "language": "R",
   "name": "ir"
  },
  "language_info": {
   "codemirror_mode": "r",
   "file_extension": ".r",
   "mimetype": "text/x-r-source",
   "name": "R",
   "pygments_lexer": "r",
   "version": "4.1.3"
  }
 },
 "nbformat": 4,
 "nbformat_minor": 5
}
